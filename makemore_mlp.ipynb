{
 "cells": [
  {
   "cell_type": "code",
   "execution_count": 43,
   "metadata": {},
   "outputs": [],
   "source": [
    "import torch\n",
    "import torch.functional as F\n",
    "import matplotlib.pyplot as plt\n",
    "%matplotlib inline"
   ]
  },
  {
   "cell_type": "code",
   "execution_count": 44,
   "metadata": {},
   "outputs": [],
   "source": [
    "words = open(\"names.txt\").read().splitlines()"
   ]
  },
  {
   "cell_type": "code",
   "execution_count": 45,
   "metadata": {},
   "outputs": [
    {
     "data": {
      "text/plain": [
       "32033"
      ]
     },
     "execution_count": 45,
     "metadata": {},
     "output_type": "execute_result"
    }
   ],
   "source": [
    "len(words)"
   ]
  },
  {
   "cell_type": "code",
   "execution_count": 46,
   "metadata": {},
   "outputs": [],
   "source": [
    "chars = sorted(list(set(''.join(words))))\n",
    "vocab_size = len(chars) + 1\n",
    "# encoding and decoding chars\n",
    "stoi = {ch: i + 1 for i, ch in enumerate(chars)}\n",
    "stoi['.'] = 0\n",
    "itos = {i: ch for ch, i in stoi.items()}"
   ]
  },
  {
   "cell_type": "code",
   "execution_count": 47,
   "metadata": {},
   "outputs": [],
   "source": [
    "# build dataset\n",
    "X, Y = [], []\n",
    "block_size = 3 # size of context for predictions\n",
    "\n",
    "for word in words[:5]:\n",
    "    context = [0] * block_size\n",
    "    for ch in word + '.':\n",
    "        ix = stoi[ch]\n",
    "        X.append(context)\n",
    "        Y.append(ix)\n",
    "        context = context[1:] + [ix]\n",
    "\n",
    "X = torch.tensor(X)\n",
    "Y = torch.tensor(Y)"
   ]
  },
  {
   "cell_type": "code",
   "execution_count": 48,
   "metadata": {},
   "outputs": [
    {
     "data": {
      "text/plain": [
       "(tensor([0, 0, 0]), tensor(5))"
      ]
     },
     "execution_count": 48,
     "metadata": {},
     "output_type": "execute_result"
    }
   ],
   "source": [
    "X[0], Y[0]"
   ]
  },
  {
   "cell_type": "code",
   "execution_count": 49,
   "metadata": {},
   "outputs": [],
   "source": [
    "C = torch.randn(vocab_size, 2)"
   ]
  },
  {
   "cell_type": "code",
   "execution_count": 50,
   "metadata": {},
   "outputs": [
    {
     "data": {
      "text/plain": [
       "torch.Size([27, 2])"
      ]
     },
     "execution_count": 50,
     "metadata": {},
     "output_type": "execute_result"
    }
   ],
   "source": [
    "C.shape"
   ]
  },
  {
   "cell_type": "code",
   "execution_count": 51,
   "metadata": {},
   "outputs": [
    {
     "data": {
      "text/plain": [
       "(tensor([0, 0, 1]),\n",
       " tensor([[ 0.4622,  1.0643],\n",
       "         [ 0.4622,  1.0643],\n",
       "         [-0.0024,  1.0208]]))"
      ]
     },
     "execution_count": 51,
     "metadata": {},
     "output_type": "execute_result"
    }
   ],
   "source": [
    "X[13], C[X][13]"
   ]
  },
  {
   "cell_type": "code",
   "execution_count": 52,
   "metadata": {},
   "outputs": [
    {
     "data": {
      "text/plain": [
       "tensor([[0.4622, 1.0643],\n",
       "        [0.4622, 1.0643],\n",
       "        [0.4622, 1.0643]])"
      ]
     },
     "execution_count": 52,
     "metadata": {},
     "output_type": "execute_result"
    }
   ],
   "source": [
    "C[X][0]"
   ]
  },
  {
   "cell_type": "code",
   "execution_count": 55,
   "metadata": {},
   "outputs": [
    {
     "data": {
      "text/plain": [
       "torch.Size([32, 3, 2])"
      ]
     },
     "execution_count": 55,
     "metadata": {},
     "output_type": "execute_result"
    }
   ],
   "source": [
    "tok_emb = C[X]\n",
    "tok_emb.shape"
   ]
  },
  {
   "cell_type": "code",
   "execution_count": 56,
   "metadata": {},
   "outputs": [],
   "source": [
    "# first layer\n",
    "W1 = torch.randn(6, 100)\n",
    "b = torch.randn(100)"
   ]
  },
  {
   "cell_type": "code",
   "execution_count": 57,
   "metadata": {},
   "outputs": [
    {
     "data": {
      "text/plain": [
       "tensor([[ 0.4622,  1.0643,  0.4622,  1.0643,  0.4622,  1.0643],\n",
       "        [ 0.4622,  1.0643,  0.4622,  1.0643,  0.1740, -1.1365],\n",
       "        [ 0.4622,  1.0643,  0.1740, -1.1365, -0.8293,  1.7618],\n",
       "        [ 0.1740, -1.1365, -0.8293,  1.7618, -0.8293,  1.7618],\n",
       "        [-0.8293,  1.7618, -0.8293,  1.7618, -0.0024,  1.0208],\n",
       "        [ 0.4622,  1.0643,  0.4622,  1.0643,  0.4622,  1.0643],\n",
       "        [ 0.4622,  1.0643,  0.4622,  1.0643,  1.1308, -0.3119],\n",
       "        [ 0.4622,  1.0643,  1.1308, -0.3119, -0.5596, -0.4138],\n",
       "        [ 1.1308, -0.3119, -0.5596, -0.4138,  0.7133,  0.5133],\n",
       "        [-0.5596, -0.4138,  0.7133,  0.5133,  0.5057, -2.2215],\n",
       "        [ 0.7133,  0.5133,  0.5057, -2.2215,  0.7133,  0.5133],\n",
       "        [ 0.5057, -2.2215,  0.7133,  0.5133, -0.0024,  1.0208],\n",
       "        [ 0.4622,  1.0643,  0.4622,  1.0643,  0.4622,  1.0643],\n",
       "        [ 0.4622,  1.0643,  0.4622,  1.0643, -0.0024,  1.0208],\n",
       "        [ 0.4622,  1.0643, -0.0024,  1.0208,  0.5057, -2.2215],\n",
       "        [-0.0024,  1.0208,  0.5057, -2.2215, -0.0024,  1.0208],\n",
       "        [ 0.4622,  1.0643,  0.4622,  1.0643,  0.4622,  1.0643],\n",
       "        [ 0.4622,  1.0643,  0.4622,  1.0643,  0.7133,  0.5133],\n",
       "        [ 0.4622,  1.0643,  0.7133,  0.5133, -0.1908, -2.1178],\n",
       "        [ 0.7133,  0.5133, -0.1908, -2.1178, -0.0024,  1.0208],\n",
       "        [-0.1908, -2.1178, -0.0024,  1.0208, -0.7587, -0.6377],\n",
       "        [-0.0024,  1.0208, -0.7587, -0.6377,  0.1740, -1.1365],\n",
       "        [-0.7587, -0.6377,  0.1740, -1.1365, -0.5596, -0.4138],\n",
       "        [ 0.1740, -1.1365, -0.5596, -0.4138, -0.5596, -0.4138],\n",
       "        [-0.5596, -0.4138, -0.5596, -0.4138, -0.0024,  1.0208],\n",
       "        [ 0.4622,  1.0643,  0.4622,  1.0643,  0.4622,  1.0643],\n",
       "        [ 0.4622,  1.0643,  0.4622,  1.0643, -0.1908, -2.1178],\n",
       "        [ 0.4622,  1.0643, -0.1908, -2.1178,  1.1308, -0.3119],\n",
       "        [-0.1908, -2.1178,  1.1308, -0.3119,  0.3326,  0.0212],\n",
       "        [ 1.1308, -0.3119,  0.3326,  0.0212, -1.4835,  1.1697],\n",
       "        [ 0.3326,  0.0212, -1.4835,  1.1697,  0.7133,  0.5133],\n",
       "        [-1.4835,  1.1697,  0.7133,  0.5133, -0.0024,  1.0208]])"
      ]
     },
     "execution_count": 57,
     "metadata": {},
     "output_type": "execute_result"
    }
   ],
   "source": [
    "# one way to reshape to a 32 x 6 matrix\n",
    "torch.cat(torch.unbind(tok_emb,1), 1)\n",
    "# more effeciency way\n",
    "tok_emb.view(-1, 6) # -1 means infer the size which is 32"
   ]
  },
  {
   "cell_type": "code",
   "execution_count": 58,
   "metadata": {},
   "outputs": [],
   "source": [
    "h = torch.tanh(tok_emb.view(-1, 6) @ W1 + b)"
   ]
  },
  {
   "cell_type": "code",
   "execution_count": 59,
   "metadata": {},
   "outputs": [],
   "source": [
    "# output layer\n",
    "W2 = torch.randn(100, vocab_size)\n",
    "b2 = torch.randn(vocab_size)"
   ]
  },
  {
   "cell_type": "code",
   "execution_count": 60,
   "metadata": {},
   "outputs": [],
   "source": [
    "# calculate the logits and normalize to probabilities\n",
    "logits = h @ W2 + b2\n",
    "counts = logits.exp()\n",
    "prob = counts / counts.sum(-1, keepdim=True)"
   ]
  },
  {
   "cell_type": "code",
   "execution_count": 62,
   "metadata": {},
   "outputs": [
    {
     "data": {
      "text/plain": [
       "torch.Size([32, 27])"
      ]
     },
     "execution_count": 62,
     "metadata": {},
     "output_type": "execute_result"
    }
   ],
   "source": [
    "# calculate the loss\n",
    "loss = -prob[torch.arange(len(Y)), Y].log().mean()"
   ]
  },
  {
   "cell_type": "code",
   "execution_count": null,
   "metadata": {},
   "outputs": [],
   "source": []
  }
 ],
 "metadata": {
  "kernelspec": {
   "display_name": "base",
   "language": "python",
   "name": "python3"
  },
  "language_info": {
   "codemirror_mode": {
    "name": "ipython",
    "version": 3
   },
   "file_extension": ".py",
   "mimetype": "text/x-python",
   "name": "python",
   "nbconvert_exporter": "python",
   "pygments_lexer": "ipython3",
   "version": "3.11.5"
  }
 },
 "nbformat": 4,
 "nbformat_minor": 2
}
