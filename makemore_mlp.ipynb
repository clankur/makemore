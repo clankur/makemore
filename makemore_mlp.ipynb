{
 "cells": [
  {
   "cell_type": "code",
   "execution_count": 73,
   "metadata": {},
   "outputs": [],
   "source": [
    "import torch\n",
    "import torch.nn.functional as F\n",
    "import matplotlib.pyplot as plt\n",
    "%matplotlib inline"
   ]
  },
  {
   "cell_type": "code",
   "execution_count": 74,
   "metadata": {},
   "outputs": [],
   "source": [
    "words = open(\"names.txt\").read().splitlines()"
   ]
  },
  {
   "cell_type": "code",
   "execution_count": 75,
   "metadata": {},
   "outputs": [
    {
     "data": {
      "text/plain": [
       "32033"
      ]
     },
     "execution_count": 75,
     "metadata": {},
     "output_type": "execute_result"
    }
   ],
   "source": [
    "len(words)"
   ]
  },
  {
   "cell_type": "code",
   "execution_count": 76,
   "metadata": {},
   "outputs": [],
   "source": [
    "chars = sorted(list(set(''.join(words))))\n",
    "vocab_size = len(chars) + 1\n",
    "# encoding and decoding chars\n",
    "stoi = {ch: i + 1 for i, ch in enumerate(chars)}\n",
    "stoi['.'] = 0\n",
    "itos = {i: ch for ch, i in stoi.items()}"
   ]
  },
  {
   "cell_type": "code",
   "execution_count": 77,
   "metadata": {},
   "outputs": [],
   "source": [
    "# build dataset\n",
    "X, Y = [], []\n",
    "block_size = 3 # size of context for predictions\n",
    "\n",
    "for word in words[:5]:\n",
    "    context = [0] * block_size\n",
    "    for ch in word + '.':\n",
    "        ix = stoi[ch]\n",
    "        X.append(context)\n",
    "        Y.append(ix)\n",
    "        context = context[1:] + [ix]\n",
    "\n",
    "X = torch.tensor(X)\n",
    "Y = torch.tensor(Y)"
   ]
  },
  {
   "cell_type": "code",
   "execution_count": 78,
   "metadata": {},
   "outputs": [
    {
     "data": {
      "text/plain": [
       "(tensor([0, 0, 0]), tensor(5))"
      ]
     },
     "execution_count": 78,
     "metadata": {},
     "output_type": "execute_result"
    }
   ],
   "source": [
    "X[0], Y[0]"
   ]
  },
  {
   "cell_type": "code",
   "execution_count": 79,
   "metadata": {},
   "outputs": [],
   "source": [
    "C = torch.randn(vocab_size, 2)"
   ]
  },
  {
   "cell_type": "code",
   "execution_count": 80,
   "metadata": {},
   "outputs": [
    {
     "data": {
      "text/plain": [
       "torch.Size([27, 2])"
      ]
     },
     "execution_count": 80,
     "metadata": {},
     "output_type": "execute_result"
    }
   ],
   "source": [
    "C.shape"
   ]
  },
  {
   "cell_type": "code",
   "execution_count": 81,
   "metadata": {},
   "outputs": [
    {
     "data": {
      "text/plain": [
       "(tensor([0, 0, 1]),\n",
       " tensor([[-0.3490,  0.3206],\n",
       "         [-0.3490,  0.3206],\n",
       "         [-0.0375, -0.5325]]))"
      ]
     },
     "execution_count": 81,
     "metadata": {},
     "output_type": "execute_result"
    }
   ],
   "source": [
    "X[13], C[X][13]"
   ]
  },
  {
   "cell_type": "code",
   "execution_count": 82,
   "metadata": {},
   "outputs": [
    {
     "data": {
      "text/plain": [
       "tensor([[-0.3490,  0.3206],\n",
       "        [-0.3490,  0.3206],\n",
       "        [-0.3490,  0.3206]])"
      ]
     },
     "execution_count": 82,
     "metadata": {},
     "output_type": "execute_result"
    }
   ],
   "source": [
    "C[X][0]"
   ]
  },
  {
   "cell_type": "code",
   "execution_count": 83,
   "metadata": {},
   "outputs": [
    {
     "data": {
      "text/plain": [
       "torch.Size([32, 3, 2])"
      ]
     },
     "execution_count": 83,
     "metadata": {},
     "output_type": "execute_result"
    }
   ],
   "source": [
    "tok_emb = C[X]\n",
    "tok_emb.shape"
   ]
  },
  {
   "cell_type": "code",
   "execution_count": 84,
   "metadata": {},
   "outputs": [],
   "source": [
    "# first layer\n",
    "W1 = torch.randn(6, 100)\n",
    "b = torch.randn(100)"
   ]
  },
  {
   "cell_type": "code",
   "execution_count": 85,
   "metadata": {},
   "outputs": [
    {
     "data": {
      "text/plain": [
       "tensor([[-0.3490,  0.3206, -0.3490,  0.3206, -0.3490,  0.3206],\n",
       "        [-0.3490,  0.3206, -0.3490,  0.3206, -0.7880, -0.0998],\n",
       "        [-0.3490,  0.3206, -0.7880, -0.0998,  0.0224, -0.5022],\n",
       "        [-0.7880, -0.0998,  0.0224, -0.5022,  0.0224, -0.5022],\n",
       "        [ 0.0224, -0.5022,  0.0224, -0.5022, -0.0375, -0.5325],\n",
       "        [-0.3490,  0.3206, -0.3490,  0.3206, -0.3490,  0.3206],\n",
       "        [-0.3490,  0.3206, -0.3490,  0.3206,  0.4983, -2.7033],\n",
       "        [-0.3490,  0.3206,  0.4983, -2.7033,  0.1693,  1.3699],\n",
       "        [ 0.4983, -2.7033,  0.1693,  1.3699, -0.4941, -0.2430],\n",
       "        [ 0.1693,  1.3699, -0.4941, -0.2430,  0.7316, -0.8155],\n",
       "        [-0.4941, -0.2430,  0.7316, -0.8155, -0.4941, -0.2430],\n",
       "        [ 0.7316, -0.8155, -0.4941, -0.2430, -0.0375, -0.5325],\n",
       "        [-0.3490,  0.3206, -0.3490,  0.3206, -0.3490,  0.3206],\n",
       "        [-0.3490,  0.3206, -0.3490,  0.3206, -0.0375, -0.5325],\n",
       "        [-0.3490,  0.3206, -0.0375, -0.5325,  0.7316, -0.8155],\n",
       "        [-0.0375, -0.5325,  0.7316, -0.8155, -0.0375, -0.5325],\n",
       "        [-0.3490,  0.3206, -0.3490,  0.3206, -0.3490,  0.3206],\n",
       "        [-0.3490,  0.3206, -0.3490,  0.3206, -0.4941, -0.2430],\n",
       "        [-0.3490,  0.3206, -0.4941, -0.2430, -1.5639, -0.4430],\n",
       "        [-0.4941, -0.2430, -1.5639, -0.4430, -0.0375, -0.5325],\n",
       "        [-1.5639, -0.4430, -0.0375, -0.5325, -0.0861,  0.8532],\n",
       "        [-0.0375, -0.5325, -0.0861,  0.8532, -0.7880, -0.0998],\n",
       "        [-0.0861,  0.8532, -0.7880, -0.0998,  0.1693,  1.3699],\n",
       "        [-0.7880, -0.0998,  0.1693,  1.3699,  0.1693,  1.3699],\n",
       "        [ 0.1693,  1.3699,  0.1693,  1.3699, -0.0375, -0.5325],\n",
       "        [-0.3490,  0.3206, -0.3490,  0.3206, -0.3490,  0.3206],\n",
       "        [-0.3490,  0.3206, -0.3490,  0.3206, -1.5639, -0.4430],\n",
       "        [-0.3490,  0.3206, -1.5639, -0.4430,  0.4983, -2.7033],\n",
       "        [-1.5639, -0.4430,  0.4983, -2.7033,  0.4503, -0.0047],\n",
       "        [ 0.4983, -2.7033,  0.4503, -0.0047, -0.1254, -0.5535],\n",
       "        [ 0.4503, -0.0047, -0.1254, -0.5535, -0.4941, -0.2430],\n",
       "        [-0.1254, -0.5535, -0.4941, -0.2430, -0.0375, -0.5325]])"
      ]
     },
     "execution_count": 85,
     "metadata": {},
     "output_type": "execute_result"
    }
   ],
   "source": [
    "# one way to reshape to a 32 x 6 matrix\n",
    "torch.cat(torch.unbind(tok_emb,1), 1)\n",
    "# more effeciency way\n",
    "tok_emb.view(-1, 6) # -1 means infer the size which is 32"
   ]
  },
  {
   "cell_type": "code",
   "execution_count": 86,
   "metadata": {},
   "outputs": [],
   "source": [
    "h = torch.tanh(tok_emb.view(-1, 6) @ W1 + b)"
   ]
  },
  {
   "cell_type": "code",
   "execution_count": 87,
   "metadata": {},
   "outputs": [],
   "source": [
    "# output layer\n",
    "W2 = torch.randn(100, vocab_size)\n",
    "b2 = torch.randn(vocab_size)"
   ]
  },
  {
   "cell_type": "code",
   "execution_count": 88,
   "metadata": {},
   "outputs": [],
   "source": [
    "# calculate the logits and normalize to probabilities\n",
    "logits = h @ W2 + b2\n",
    "counts = logits.exp()\n",
    "prob = counts / counts.sum(-1, keepdim=True)"
   ]
  },
  {
   "cell_type": "code",
   "execution_count": 89,
   "metadata": {},
   "outputs": [
    {
     "data": {
      "text/plain": [
       "tensor(15.9860)"
      ]
     },
     "execution_count": 89,
     "metadata": {},
     "output_type": "execute_result"
    }
   ],
   "source": [
    "# calculate the loss\n",
    "#loss = -prob[torch.arange(len(Y)), Y].log().mean() # negative log likelihood\n",
    "loss = F.cross_entropy(logits, Y) # same as above\n",
    "loss"
   ]
  },
  {
   "cell_type": "code",
   "execution_count": 94,
   "metadata": {},
   "outputs": [],
   "source": [
    "# hyperparameters\n",
    "learning_rate = 0.1\n",
    "max_epochs = 100"
   ]
  },
  {
   "cell_type": "code",
   "execution_count": 95,
   "metadata": {},
   "outputs": [],
   "source": [
    "# first layer\n",
    "g = torch.Generator().manual_seed(42)\n",
    "C = torch.randn(vocab_size, 2, generator=g)\n",
    "W1 = torch.randn(6, 100, generator=g)\n",
    "b1 = torch.randn(100, generator=g)\n",
    "\n",
    "# output layer\n",
    "W2 = torch.randn(100, vocab_size, generator=g)\n",
    "b2 = torch.randn(vocab_size, generator=g)\n",
    "parameters = [C, W1, b1, W2, b2]"
   ]
  },
  {
   "cell_type": "code",
   "execution_count": 96,
   "metadata": {},
   "outputs": [],
   "source": [
    "for param in parameters:\n",
    "    param.requires_grad_()"
   ]
  },
  {
   "cell_type": "code",
   "execution_count": 97,
   "metadata": {},
   "outputs": [],
   "source": [
    "for i in range(max_epochs):\n",
    "    # forward pass\n",
    "    tok_emb = C[X] # T x block_size x C\n",
    "    h = torch.tanh(tok_emb.view(-1, 6) @ W1 + b1)\n",
    "    logits = h @ W2 + b2\n",
    "    loss = F.cross_entropy(logits, Y) \n",
    "\n",
    "    # backward pass\n",
    "    for p in parameters: # zero out the gradients\n",
    "        p.grad = None\n",
    "    loss.backward()\n",
    "\n",
    "    # update parameters\n",
    "    for p in parameters:\n",
    "        p.data += -learning_rate * p.grad"
   ]
  },
  {
   "cell_type": "code",
   "execution_count": 98,
   "metadata": {},
   "outputs": [
    {
     "data": {
      "text/plain": [
       "0.28075531125068665"
      ]
     },
     "execution_count": 98,
     "metadata": {},
     "output_type": "execute_result"
    }
   ],
   "source": [
    "loss.item()"
   ]
  },
  {
   "cell_type": "code",
   "execution_count": null,
   "metadata": {},
   "outputs": [],
   "source": []
  }
 ],
 "metadata": {
  "kernelspec": {
   "display_name": "base",
   "language": "python",
   "name": "python3"
  },
  "language_info": {
   "codemirror_mode": {
    "name": "ipython",
    "version": 3
   },
   "file_extension": ".py",
   "mimetype": "text/x-python",
   "name": "python",
   "nbconvert_exporter": "python",
   "pygments_lexer": "ipython3",
   "version": "3.11.5"
  }
 },
 "nbformat": 4,
 "nbformat_minor": 2
}
