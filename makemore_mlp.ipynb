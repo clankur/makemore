{
 "cells": [
  {
   "cell_type": "code",
   "execution_count": 16,
   "metadata": {},
   "outputs": [],
   "source": [
    "import torch\n",
    "import torch.nn.functional as F\n",
    "import matplotlib.pyplot as plt\n",
    "from typing import List, Tuple\n",
    "%matplotlib inline"
   ]
  },
  {
   "cell_type": "code",
   "execution_count": 17,
   "metadata": {},
   "outputs": [],
   "source": [
    "words = open(\"names.txt\").read().splitlines()"
   ]
  },
  {
   "cell_type": "code",
   "execution_count": 18,
   "metadata": {},
   "outputs": [
    {
     "data": {
      "text/plain": [
       "32033"
      ]
     },
     "execution_count": 18,
     "metadata": {},
     "output_type": "execute_result"
    }
   ],
   "source": [
    "len(words)"
   ]
  },
  {
   "cell_type": "code",
   "execution_count": 19,
   "metadata": {},
   "outputs": [],
   "source": [
    "chars = sorted(list(set(''.join(words))))\n",
    "vocab_size = len(chars) + 1\n",
    "# encoding and decoding chars\n",
    "stoi = {ch: i + 1 for i, ch in enumerate(chars)}\n",
    "stoi['.'] = 0\n",
    "itos = {i: ch for ch, i in stoi.items()}"
   ]
  },
  {
   "cell_type": "code",
   "execution_count": 20,
   "metadata": {},
   "outputs": [],
   "source": [
    "# hyperparameters\n",
    "learning_rate = 0.01\n",
    "max_epochs = 200000\n",
    "batch_size = 32\n",
    "num_embeddings = 10 # aka C\n",
    "block_size = 3"
   ]
  },
  {
   "cell_type": "code",
   "execution_count": 21,
   "metadata": {},
   "outputs": [],
   "source": [
    "# build dataset\n",
    "def build_dataset (words: List[str]) -> Tuple[torch.Tensor, torch.Tensor]:\n",
    "    X, Y = [], []\n",
    "    for word in words:\n",
    "        context = [0] * block_size\n",
    "        for ch in word + '.':\n",
    "            ix = stoi[ch]\n",
    "            X.append(context)\n",
    "            Y.append(ix)\n",
    "            context = context[1:] + [ix]\n",
    "    return torch.tensor(X), torch.tensor(Y)\n",
    "\n",
    "import random\n",
    "random.seed(42)\n",
    "random.shuffle(words)\n",
    "\n",
    "# make training, validation and test splits\n",
    "n1, n2 = int(len(words) * 0.8), int(len(words) * 0.9)\n",
    "X_train, Y_train = build_dataset(words[:n1])\n",
    "X_valid, Y_valid = build_dataset(words[n1:n2])\n",
    "X_test, Y_test = build_dataset(words[n2:])"
   ]
  },
  {
   "cell_type": "code",
   "execution_count": 22,
   "metadata": {},
   "outputs": [],
   "source": [
    "# first layer\n",
    "g = torch.Generator().manual_seed(42)\n",
    "token_embedding_table = torch.randn(vocab_size, num_embeddings, generator=g)\n",
    "W1 = torch.randn(num_embeddings * block_size, 200, generator=g)\n",
    "b1 = torch.randn(200, generator=g)\n",
    "\n",
    "# output layer\n",
    "W2 = torch.randn(200, vocab_size, generator=g)\n",
    "b2 = torch.randn(vocab_size, generator=g)\n",
    "parameters = [token_embedding_table, W1, b1, W2, b2]"
   ]
  },
  {
   "cell_type": "code",
   "execution_count": 23,
   "metadata": {},
   "outputs": [],
   "source": [
    "for param in parameters:\n",
    "    param.requires_grad_()"
   ]
  },
  {
   "cell_type": "code",
   "execution_count": 24,
   "metadata": {},
   "outputs": [],
   "source": [
    "stepi = []\n",
    "lossi = []"
   ]
  },
  {
   "cell_type": "code",
   "execution_count": 25,
   "metadata": {},
   "outputs": [
    {
     "name": "stdout",
     "output_type": "stream",
     "text": [
      "Loss: 26.3165\n",
      "Loss: 9.3758\n",
      "Loss: 6.8580\n",
      "Loss: 6.4169\n",
      "Loss: 4.2250\n",
      "Loss: 4.5964\n",
      "Loss: 4.9362\n",
      "Loss: 4.5753\n",
      "Loss: 4.2983\n",
      "Loss: 3.4320\n",
      "Loss: 3.1071\n",
      "Loss: 3.4025\n",
      "Loss: 2.8679\n",
      "Loss: 3.7253\n",
      "Loss: 2.4611\n",
      "Loss: 2.7106\n",
      "Loss: 3.0435\n",
      "Loss: 3.0834\n",
      "Loss: 3.0965\n",
      "Loss: 2.3104\n",
      "Loss: 2.4547\n",
      "Loss: 2.4511\n",
      "Loss: 2.9442\n",
      "Loss: 2.7080\n",
      "Loss: 2.4286\n",
      "Loss: 2.1168\n",
      "Loss: 2.3730\n",
      "Loss: 2.6207\n",
      "Loss: 2.4386\n",
      "Loss: 2.6644\n",
      "Loss: 2.2706\n",
      "Loss: 2.2782\n",
      "Loss: 2.4077\n",
      "Loss: 2.5017\n",
      "Loss: 2.2876\n",
      "Loss: 2.5163\n",
      "Loss: 2.3738\n",
      "Loss: 2.1374\n",
      "Loss: 2.6297\n",
      "Loss: 2.9261\n",
      "Loss: 2.5992\n",
      "Loss: 2.0202\n",
      "Loss: 2.2398\n",
      "Loss: 2.8484\n",
      "Loss: 2.0231\n",
      "Loss: 2.2947\n",
      "Loss: 2.6961\n",
      "Loss: 1.8534\n",
      "Loss: 2.1027\n",
      "Loss: 2.6759\n",
      "Loss: 2.7865\n",
      "Loss: 2.4343\n",
      "Loss: 2.8738\n",
      "Loss: 1.9756\n",
      "Loss: 2.2811\n",
      "Loss: 2.5306\n",
      "Loss: 2.3228\n",
      "Loss: 2.2493\n",
      "Loss: 2.3726\n",
      "Loss: 2.4795\n",
      "Loss: 2.4368\n",
      "Loss: 2.3221\n",
      "Loss: 2.0496\n",
      "Loss: 2.1380\n",
      "Loss: 2.2662\n",
      "Loss: 2.4214\n",
      "Loss: 2.4009\n",
      "Loss: 2.6989\n",
      "Loss: 2.5175\n",
      "Loss: 2.2565\n",
      "Loss: 2.1212\n",
      "Loss: 2.2490\n",
      "Loss: 2.7245\n",
      "Loss: 2.2607\n",
      "Loss: 2.3481\n",
      "Loss: 2.1443\n",
      "Loss: 2.4376\n",
      "Loss: 2.2342\n",
      "Loss: 2.3343\n",
      "Loss: 2.4129\n",
      "Loss: 2.2867\n",
      "Loss: 2.2838\n",
      "Loss: 2.4574\n",
      "Loss: 2.9031\n",
      "Loss: 2.9172\n",
      "Loss: 2.4587\n",
      "Loss: 2.2910\n",
      "Loss: 2.5607\n",
      "Loss: 2.4036\n",
      "Loss: 2.5189\n",
      "Loss: 2.3438\n",
      "Loss: 2.5981\n",
      "Loss: 2.0608\n",
      "Loss: 1.9235\n",
      "Loss: 2.0269\n",
      "Loss: 2.0312\n",
      "Loss: 1.9484\n",
      "Loss: 2.1566\n",
      "Loss: 2.0062\n",
      "Loss: 2.6262\n",
      "Loss: 2.2377\n",
      "Loss: 2.4176\n",
      "Loss: 2.1787\n",
      "Loss: 2.3558\n",
      "Loss: 2.1460\n",
      "Loss: 2.4557\n",
      "Loss: 2.6790\n",
      "Loss: 2.1212\n",
      "Loss: 2.1277\n",
      "Loss: 2.2459\n",
      "Loss: 1.9655\n",
      "Loss: 2.2853\n",
      "Loss: 2.2702\n",
      "Loss: 2.4813\n",
      "Loss: 2.2391\n",
      "Loss: 2.5242\n",
      "Loss: 2.1990\n",
      "Loss: 2.2758\n",
      "Loss: 2.3773\n",
      "Loss: 2.2681\n",
      "Loss: 2.3611\n",
      "Loss: 2.7415\n",
      "Loss: 2.1693\n",
      "Loss: 2.3986\n",
      "Loss: 2.2046\n",
      "Loss: 2.3468\n",
      "Loss: 2.4063\n",
      "Loss: 2.1496\n",
      "Loss: 2.3039\n",
      "Loss: 2.0306\n",
      "Loss: 2.6169\n",
      "Loss: 2.1836\n",
      "Loss: 2.4913\n",
      "Loss: 2.1401\n",
      "Loss: 2.6756\n",
      "Loss: 2.3014\n",
      "Loss: 2.1892\n",
      "Loss: 2.1178\n",
      "Loss: 2.1096\n",
      "Loss: 2.2048\n",
      "Loss: 2.1556\n",
      "Loss: 2.5502\n",
      "Loss: 2.3734\n",
      "Loss: 2.1875\n",
      "Loss: 2.2017\n",
      "Loss: 2.2958\n",
      "Loss: 2.3589\n",
      "Loss: 1.8862\n",
      "Loss: 2.2073\n",
      "Loss: 2.1797\n",
      "Loss: 2.3528\n",
      "Loss: 2.4371\n",
      "Loss: 2.4725\n",
      "Loss: 2.0879\n",
      "Loss: 2.4411\n",
      "Loss: 2.3045\n",
      "Loss: 2.3402\n",
      "Loss: 2.6548\n",
      "Loss: 2.3036\n",
      "Loss: 2.3442\n",
      "Loss: 2.3201\n",
      "Loss: 2.2991\n",
      "Loss: 2.2158\n",
      "Loss: 2.9063\n",
      "Loss: 2.1535\n",
      "Loss: 2.2174\n",
      "Loss: 2.2995\n",
      "Loss: 2.1480\n",
      "Loss: 2.4158\n",
      "Loss: 2.5692\n",
      "Loss: 1.9786\n",
      "Loss: 2.3716\n",
      "Loss: 2.0029\n",
      "Loss: 1.9514\n",
      "Loss: 2.7885\n",
      "Loss: 2.0131\n",
      "Loss: 1.9972\n",
      "Loss: 2.3965\n",
      "Loss: 2.1317\n",
      "Loss: 2.3394\n",
      "Loss: 1.8116\n",
      "Loss: 2.3589\n",
      "Loss: 2.2048\n",
      "Loss: 2.3463\n",
      "Loss: 2.5400\n",
      "Loss: 2.2226\n",
      "Loss: 2.2176\n",
      "Loss: 2.7531\n",
      "Loss: 2.3017\n",
      "Loss: 1.9805\n",
      "Loss: 2.5367\n",
      "Loss: 2.4328\n",
      "Loss: 2.0825\n",
      "Loss: 2.0802\n",
      "Loss: 2.0244\n",
      "Loss: 2.6120\n",
      "Loss: 2.0995\n",
      "Loss: 2.5286\n",
      "Loss: 2.5252\n",
      "Loss: 2.5779\n"
     ]
    }
   ],
   "source": [
    "for i in range(max_epochs):\n",
    "    # construct minibatch\n",
    "    ix = torch.randint(0, X_train.shape[0], (batch_size,))\n",
    "    # forward pass\n",
    "    tok_emb = token_embedding_table[X_train[ix]] # T x block_size x C\n",
    "    h = torch.tanh(tok_emb.view(-1, block_size * num_embeddings) @ W1 + b1)\n",
    "    logits = h @ W2 + b2\n",
    "    loss = F.cross_entropy(logits, Y_train[ix]) \n",
    "    \n",
    "    if i % 1000 == 0:\n",
    "        print(f'Loss: {loss:.4f}')\n",
    "\n",
    "    # backward pass\n",
    "    for p in parameters: # zero out the gradients\n",
    "        p.grad = None\n",
    "    loss.backward()\n",
    "\n",
    "    # update parameters\n",
    "    lr = learning_rate if i < max_epochs / 2 else learning_rate / 10\n",
    "    for p in parameters:\n",
    "        p.data += -lr * p.grad\n",
    "    \n",
    "    stepi.append(i)\n",
    "    lossi.append(loss.log10().item())\n"
   ]
  },
  {
   "cell_type": "code",
   "execution_count": 26,
   "metadata": {},
   "outputs": [
    {
     "data": {
      "text/plain": [
       "[<matplotlib.lines.Line2D at 0x17e85e390>]"
      ]
     },
     "execution_count": 26,
     "metadata": {},
     "output_type": "execute_result"
    },
    {
     "data": {
      "image/png": "[encoded data removed]",
      "text/plain": [
       "<Figure size 640x480 with 1 Axes>"
      ]
     },
     "metadata": {},
     "output_type": "display_data"
    }
   ],
   "source": [
    "plt.plot(stepi, lossi)"
   ]
  },
  {
   "cell_type": "code",
   "execution_count": 27,
   "metadata": {},
   "outputs": [
    {
     "data": {
      "text/plain": [
       "2.2642199993133545"
      ]
     },
     "execution_count": 27,
     "metadata": {},
     "output_type": "execute_result"
    }
   ],
   "source": [
    "# evaluate on loss on training set\n",
    "tok_emb = token_embedding_table[X_train] # T x block_size x C\n",
    "h = torch.tanh(tok_emb.view(-1, num_embeddings * block_size) @ W1 + b1)\n",
    "logits = h @ W2 + b2\n",
    "loss = F.cross_entropy(logits, Y_train) \n",
    "loss.item()"
   ]
  },
  {
   "cell_type": "code",
   "execution_count": 28,
   "metadata": {},
   "outputs": [
    {
     "data": {
      "text/plain": [
       "2.27232027053833"
      ]
     },
     "execution_count": 28,
     "metadata": {},
     "output_type": "execute_result"
    }
   ],
   "source": [
    "# evaluate on loss on validation set\n",
    "tok_emb = token_embedding_table[X_valid] # T x block_size x C\n",
    "h = torch.tanh(tok_emb.view(-1, num_embeddings * block_size) @ W1 + b1)\n",
    "logits = h @ W2 + b2\n",
    "loss = F.cross_entropy(logits, Y_valid)\n",
    "loss.item()"
   ]
  },
  {
   "cell_type": "code",
   "execution_count": 29,
   "metadata": {},
   "outputs": [
    {
     "data": {
      "text/plain": [
       "2.2646725177764893"
      ]
     },
     "execution_count": 29,
     "metadata": {},
     "output_type": "execute_result"
    }
   ],
   "source": [
    "# evaluate on loss on test set\n",
    "tok_emb = token_embedding_table[X_test] # T x block_size x C\n",
    "h = torch.tanh(tok_emb.view(-1, num_embeddings * block_size) @ W1 + b1)\n",
    "logits = h @ W2 + b2\n",
    "loss = F.cross_entropy(logits, Y_test)\n",
    "loss.item()"
   ]
  },
  {
   "cell_type": "code",
   "execution_count": 31,
   "metadata": {},
   "outputs": [
    {
     "name": "stdout",
     "output_type": "stream",
     "text": [
      "anuhumavi.\n",
      "sema.\n",
      "idussan.\n",
      "shan.\n",
      "silaylen.\n",
      "kemah.\n",
      "lakan.\n",
      "eaichanden.\n",
      "diza.\n",
      "ken.\n",
      "maj.\n",
      "ryri.\n",
      "kalla.\n",
      "mikhlynna.\n",
      "cvahia.\n",
      "acen.\n",
      "kaitharcephelia.\n",
      "sotal.\n",
      "selah.\n",
      "soghariah.\n"
     ]
    }
   ],
   "source": [
    "# generate some names\n",
    "g = torch.Generator().manual_seed(42)\n",
    "for i in range(20):\n",
    "    out = []\n",
    "    context = [0] * block_size\n",
    "    while True:\n",
    "        tok_emb = token_embedding_table[torch.tensor([context])]\n",
    "        h = torch.tanh(tok_emb.view(1, -1) @ W1 + b1)\n",
    "        logits = h @ W2 + b2\n",
    "        probs = F.softmax(logits, dim=1)\n",
    "        ix = torch.multinomial(probs, num_samples=1, replacement=True, generator=g).item()\n",
    "        context = context[1:] + [ix]\n",
    "        out.append(ix) \n",
    "        if itos[ix] == '.':\n",
    "            break\n",
    "    print(''.join(itos[i] for i in out))"
   ]
  },
  {
   "cell_type": "code",
   "execution_count": null,
   "metadata": {},
   "outputs": [],
   "source": []
  }
 ],
 "metadata": {
  "kernelspec": {
   "display_name": "base",
   "language": "python",
   "name": "python3"
  },
  "language_info": {
   "codemirror_mode": {
    "name": "ipython",
    "version": 3
   },
   "file_extension": ".py",
   "mimetype": "text/x-python",
   "name": "python",
   "nbconvert_exporter": "python",
   "pygments_lexer": "ipython3",
   "version": "3.1.0"
  }
 },
 "nbformat": 4,
 "nbformat_minor": 2
}
