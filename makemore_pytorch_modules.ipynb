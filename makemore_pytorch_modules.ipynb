{
 "cells": [
  {
   "cell_type": "code",
   "execution_count": 7,
   "metadata": {},
   "outputs": [],
   "source": [
    "import torch\n",
    "import torch.nn.functional as F\n",
    "import matplotlib.pyplot as plt\n",
    "from typing import List, Tuple\n",
    "%matplotlib inline"
   ]
  },
  {
   "cell_type": "code",
   "execution_count": 8,
   "metadata": {},
   "outputs": [],
   "source": [
    "words = open(\"names.txt\").read().splitlines()"
   ]
  },
  {
   "cell_type": "code",
   "execution_count": 9,
   "metadata": {},
   "outputs": [
    {
     "data": {
      "text/plain": [
       "32033"
      ]
     },
     "execution_count": 9,
     "metadata": {},
     "output_type": "execute_result"
    }
   ],
   "source": [
    "len(words)"
   ]
  },
  {
   "cell_type": "code",
   "execution_count": 10,
   "metadata": {},
   "outputs": [],
   "source": [
    "chars = sorted(list(set(''.join(words))))\n",
    "# encoding and decoding chars\n",
    "stoi = {ch: i + 1 for i, ch in enumerate(chars)}\n",
    "stoi['.'] = 0\n",
    "itos = {i: ch for ch, i in stoi.items()}\n",
    "vocab_size = len(stoi)"
   ]
  },
  {
   "cell_type": "code",
   "execution_count": 11,
   "metadata": {},
   "outputs": [],
   "source": [
    "# hyperparameters\n",
    "learning_rate = 0.01\n",
    "max_epochs = 200000\n",
    "batch_size = 32\n",
    "block_size = 3 \n",
    "\n",
    "# build dataset\n",
    "def build_dataset (words: List[str]) -> Tuple[torch.Tensor, torch.Tensor]:\n",
    "    X, Y = [], []\n",
    "    for word in words:\n",
    "        context = [0] * block_size\n",
    "        for ch in word + '.':\n",
    "            ix = stoi[ch]\n",
    "            X.append(context)\n",
    "            Y.append(ix)\n",
    "            context = context[1:] + [ix]\n",
    "    return torch.tensor(X), torch.tensor(Y)\n",
    "\n",
    "import random\n",
    "random.seed(42)\n",
    "random.shuffle(words)\n",
    "\n",
    "# make training, validation and test splits\n",
    "n1, n2 = int(len(words) * 0.8), int(len(words) * 0.9)\n",
    "X_train, Y_train = build_dataset(words[:n1])\n",
    "X_valid, Y_valid = build_dataset(words[n1:n2])\n",
    "X_test, Y_test = build_dataset(words[n2:])"
   ]
  },
  {
   "cell_type": "code",
   "execution_count": 23,
   "metadata": {},
   "outputs": [
    {
     "name": "stdout",
     "output_type": "stream",
     "text": [
      "46497\n"
     ]
    }
   ],
   "source": [
    "from typing import List\n",
    "from torch.nn.parameter import Parameter\n",
    "\n",
    "\n",
    "class Linear:\n",
    "    def __init__ (self, fan_in: int, fan_out: int, bias: bool = True) -> None:\n",
    "        self.weight = torch.randn(fan_in, fan_out, generator=g) / fan_in**0.5\n",
    "        self.bias = torch.zeros(fan_out) if bias else None\n",
    "\n",
    "    def forward (self, X: torch.Tensor) -> torch.Tensor:\n",
    "        \n",
    "        self.out =  X @ self.weight\n",
    "        if self.bias is not None:\n",
    "            self.out += self.bias\n",
    "        return self.out\n",
    "\n",
    "    def __call__(self, X: torch.Tensor) -> torch.Tensor:\n",
    "        return self.forward(X)\n",
    "\n",
    "    def parameters(self):\n",
    "        return [self.weight] + ([] if self.bias is None else [self.bias])\n",
    "    \n",
    "\n",
    "class BatchNorm1d:\n",
    "    def __init__ (self, dim: int, eps: float = 1e-5, momentum: float = 0.1) -> None:\n",
    "        self.eps = eps\n",
    "        self.momentum = momentum\n",
    "        self.training = True\n",
    "        # parameters trained with backprop\n",
    "        self.gamma = torch.ones(dim) # scale\n",
    "        self.beta = torch.zeros(dim) # bias\n",
    "        # buffers (trained with a running momentum update)\n",
    "        self.running_mean = torch.zeros(dim)\n",
    "        self.running_var = torch.ones(dim)\n",
    "\n",
    "    def forward (self, X: torch.Tensor) -> torch.Tensor:\n",
    "        if self.training:\n",
    "            xmean = X.mean(dim=0)\n",
    "            xvar = X.var(dim=0)\n",
    "        else:\n",
    "            xmean = self.running_mean\n",
    "            xvar = self.running_var\n",
    "        \n",
    "        xhat = (X - xmean) / torch.sqrt(xvar + self.eps)\n",
    "        self.out = self.gamma * xhat + self.beta # scale and shift\n",
    "\n",
    "        if self.training:\n",
    "            with torch.no_grad():\n",
    "                self.running_mean = (1 - self.momentum) * self.running_mean + self.momentum * xmean\n",
    "                self.running_var - (1 - self.momentum) * self.running_var + self.momentum * xvar\n",
    "        return self.out\n",
    "\n",
    "    def __call__(self, X: torch.Tensor) -> torch.Tensor:\n",
    "        return self.forward(X)\n",
    "        \n",
    "\n",
    "    def parameters(self):\n",
    "        return [self.gamma, self.beta]\n",
    "\n",
    "class Tanh:\n",
    "    def __call__(self, X: torch.Tensor) -> torch.Tensor:\n",
    "        self.out = torch.tanh(X)\n",
    "        return self.out\n",
    "    def parameters(self):\n",
    "        return []\n",
    "\n",
    "n_embd = 10\n",
    "n_hidden = 100\n",
    "g = torch.Generator().manual_seed(42)\n",
    "\n",
    "token_embedding_table = torch.randn((vocab_size, n_embd), generator=g)\n",
    "layers = [\n",
    "  Linear(n_embd * block_size, n_hidden), Tanh(),\n",
    "  Linear(           n_hidden, n_hidden), Tanh(),\n",
    "  Linear(           n_hidden, n_hidden), Tanh(),\n",
    "  Linear(           n_hidden, n_hidden), Tanh(),\n",
    "  Linear(           n_hidden, n_hidden), Tanh(),\n",
    "  Linear(           n_hidden, vocab_size),\n",
    "]\n",
    "\n",
    "with torch.no_grad():\n",
    "    # make last layer less confident\n",
    "    layers[-1].weight *= 0.1\n",
    "    for layer in layers:\n",
    "        if isinstance(layer, Linear):\n",
    "            layer.weight *= 5/3 # tanh gain\n",
    "\n",
    "parameters = [token_embedding_table] + [p for l in layers for p in l.parameters()]\n",
    "print(sum(p.nelement() for p in parameters))\n",
    "for p in parameters:\n",
    "    p.requires_grad = True"
   ]
  },
  {
   "cell_type": "code",
   "execution_count": 24,
   "metadata": {},
   "outputs": [
    {
     "name": "stdout",
     "output_type": "stream",
     "text": [
      "Step       0 Loss: 3.2884\n",
      "Step   10000 Loss: 2.2360\n",
      "Step   20000 Loss: 2.4046\n",
      "Step   30000 Loss: 1.8028\n",
      "Step   40000 Loss: 2.0053\n",
      "Step   50000 Loss: 2.0628\n",
      "Step   60000 Loss: 2.3371\n",
      "Step   70000 Loss: 2.7050\n",
      "Step   80000 Loss: 2.3509\n",
      "Step   90000 Loss: 2.4679\n",
      "Step  100000 Loss: 1.8734\n",
      "Step  110000 Loss: 2.2973\n",
      "Step  120000 Loss: 1.7442\n",
      "Step  130000 Loss: 1.9195\n",
      "Step  140000 Loss: 2.1413\n",
      "Step  150000 Loss: 2.0007\n",
      "Step  160000 Loss: 2.2581\n",
      "Step  170000 Loss: 2.0947\n",
      "Step  180000 Loss: 1.8420\n",
      "Step  190000 Loss: 2.1369\n"
     ]
    }
   ],
   "source": [
    "lossi = []\n",
    "for i in range(max_epochs):\n",
    "    # construct minibatch\n",
    "    ix = torch.randint(0, X_train.shape[0], (batch_size,))\n",
    "    Xb, Yb = X_train[ix], Y_train[ix]\n",
    "\n",
    "    # forward pass\n",
    "    tok_emb = token_embedding_table[Xb] # T x block_size x C\n",
    "    x = tok_emb.view(tok_emb.shape[0], -1) # T x (block_size * C)\n",
    "    for layer in layers:\n",
    "        x = layer(x)\n",
    "    loss = F.cross_entropy(x, Yb)\n",
    "\n",
    "    # backward pass\n",
    "    for layer in layers:\n",
    "        layer.out.retain_grad()\n",
    "    for p in parameters: # zero out the gradients\n",
    "        p.grad = None\n",
    "    loss.backward()\n",
    "\n",
    "    # update parameters\n",
    "    lr = learning_rate if i < max_epochs / 2 else learning_rate / 10\n",
    "    for p in parameters:\n",
    "        p.data += -lr * p.grad\n",
    "    \n",
    "    if i % 10000 == 0:\n",
    "        print(f'Step {i:7d} Loss: {loss:.4f}')\n",
    "    lossi.append(loss.log10().item())\n"
   ]
  },
  {
   "cell_type": "code",
   "execution_count": 25,
   "metadata": {},
   "outputs": [
    {
     "name": "stdout",
     "output_type": "stream",
     "text": [
      "('train', 2.0376107692718506)\n",
      "('valid', 2.101020574569702)\n"
     ]
    }
   ],
   "source": [
    "@torch.no_grad()\n",
    "def split_loss (split: str) -> float:\n",
    "    x, y = {\n",
    "        'train': (X_train, Y_train),\n",
    "        'valid': (X_valid, Y_valid),\n",
    "        'test': (X_test, Y_test)\n",
    "    }[split]\n",
    "\n",
    "    # evaluate loss on validation set\n",
    "    tok_emb = token_embedding_table[x] # T x block_size x C\n",
    "    x = tok_emb.view(tok_emb.shape[0], -1)\n",
    "    for layer in layers:\n",
    "        x = layer(x)\n",
    "    loss = F.cross_entropy(x, y) \n",
    "    return split, loss.item()\n",
    "\n",
    "for layer in layers:\n",
    "    layer.training = False\n",
    "print (split_loss('train'))\n",
    "print (split_loss('valid'))"
   ]
  },
  {
   "cell_type": "code",
   "execution_count": 26,
   "metadata": {},
   "outputs": [
    {
     "name": "stdout",
     "output_type": "stream",
     "text": [
      "('test', 2.0978434085845947)\n"
     ]
    }
   ],
   "source": [
    "print (split_loss('test'))"
   ]
  },
  {
   "cell_type": "code",
   "execution_count": 28,
   "metadata": {},
   "outputs": [
    {
     "name": "stdout",
     "output_type": "stream",
     "text": [
      "anueden.\n",
      "tia.\n",
      "mari.\n",
      "nehante.\n",
      "naziel.\n",
      "yana.\n",
      "kemarce.\n",
      "man.\n",
      "epiah.\n",
      "nasilmazi.\n",
      "kend.\n",
      "josey.\n",
      "gor.\n",
      "lor.\n",
      "mari.\n",
      "yana.\n",
      "cvisia.\n",
      "acen.\n",
      "kaithan.\n",
      "tiyan.\n"
     ]
    }
   ],
   "source": [
    "# generate some names\n",
    "g = torch.Generator().manual_seed(42)\n",
    "for i in range(20):\n",
    "    out = []\n",
    "    context = [0] * block_size\n",
    "    while True:\n",
    "        tok_emb = token_embedding_table[torch.tensor([context])]\n",
    "        x = tok_emb.view(tok_emb.shape[0], -1)\n",
    "        for layer in layers:\n",
    "            x = layer(x)\n",
    "\n",
    "        probs = F.softmax(x, dim=1)\n",
    "        ix = torch.multinomial(probs, num_samples=1, replacement=True, generator=g).item()\n",
    "        context = context[1:] + [ix]\n",
    "        out.append(ix) \n",
    "        if itos[ix] == '.':\n",
    "            break\n",
    "    print(''.join(itos[i] for i in out))"
   ]
  },
  {
   "cell_type": "code",
   "execution_count": null,
   "metadata": {},
   "outputs": [],
   "source": []
  }
 ],
 "metadata": {
  "kernelspec": {
   "display_name": "base",
   "language": "python",
   "name": "python3"
  },
  "language_info": {
   "codemirror_mode": {
    "name": "ipython",
    "version": 3
   },
   "file_extension": ".py",
   "mimetype": "text/x-python",
   "name": "python",
   "nbconvert_exporter": "python",
   "pygments_lexer": "ipython3",
   "version": "3.11.5"
  }
 },
 "nbformat": 4,
 "nbformat_minor": 2
}
