{
 "cells": [
  {
   "cell_type": "code",
   "execution_count": 116,
   "metadata": {},
   "outputs": [],
   "source": [
    "import torch\n",
    "import torch.nn.functional as F\n",
    "import matplotlib.pyplot as plt\n",
    "from typing import List, Tuple\n",
    "%matplotlib inline"
   ]
  },
  {
   "cell_type": "code",
   "execution_count": 117,
   "metadata": {},
   "outputs": [],
   "source": [
    "words = open(\"names.txt\").read().splitlines()"
   ]
  },
  {
   "cell_type": "code",
   "execution_count": 118,
   "metadata": {},
   "outputs": [
    {
     "data": {
      "text/plain": [
       "32033"
      ]
     },
     "execution_count": 118,
     "metadata": {},
     "output_type": "execute_result"
    }
   ],
   "source": [
    "len(words)"
   ]
  },
  {
   "cell_type": "code",
   "execution_count": 119,
   "metadata": {},
   "outputs": [],
   "source": [
    "chars = sorted(list(set(''.join(words))))\n",
    "# encoding and decoding chars\n",
    "stoi = {ch: i + 1 for i, ch in enumerate(chars)}\n",
    "stoi['.'] = 0\n",
    "itos = {i: ch for ch, i in stoi.items()}\n",
    "vocab_size = len(stoi)"
   ]
  },
  {
   "cell_type": "code",
   "execution_count": 120,
   "metadata": {},
   "outputs": [],
   "source": [
    "# hyperparameters\n",
    "learning_rate = 0.01\n",
    "max_epochs = 200000\n",
    "batch_size = 32\n",
    "n_embd = 10 # aka C\n",
    "block_size = 3"
   ]
  },
  {
   "cell_type": "code",
   "execution_count": 121,
   "metadata": {},
   "outputs": [],
   "source": [
    "# build dataset\n",
    "def build_dataset (words: List[str]) -> Tuple[torch.Tensor, torch.Tensor]:\n",
    "    X, Y = [], []\n",
    "    for word in words:\n",
    "        context = [0] * block_size\n",
    "        for ch in word + '.':\n",
    "            ix = stoi[ch]\n",
    "            X.append(context)\n",
    "            Y.append(ix)\n",
    "            context = context[1:] + [ix]\n",
    "    return torch.tensor(X), torch.tensor(Y)\n",
    "\n",
    "import random\n",
    "random.seed(42)\n",
    "random.shuffle(words)\n",
    "\n",
    "# make training, validation and test splits\n",
    "n1, n2 = int(len(words) * 0.8), int(len(words) * 0.9)\n",
    "X_train, Y_train = build_dataset(words[:n1])\n",
    "X_valid, Y_valid = build_dataset(words[n1:n2])\n",
    "X_test, Y_test = build_dataset(words[n2:])"
   ]
  },
  {
   "cell_type": "code",
   "execution_count": 136,
   "metadata": {},
   "outputs": [],
   "source": [
    "# first layer\n",
    "n_hidden = 200\n",
    "g = torch.Generator().manual_seed(42)\n",
    "token_embedding_table = torch.randn(vocab_size, n_embd, generator=g)\n",
    "W1 = torch.randn(n_embd * block_size, n_hidden, generator=g) * (5/3)/(n_embd * block_size)**0.5 # Kaiming init \n",
    "# b1 = torch.randn(n_hidden, generator=g) * 0.01 # bias not needed with batchnorm\n",
    "\n",
    "# output layer\n",
    "W2 = torch.randn(n_hidden, vocab_size, generator=g) * 0.01 # we want small weights\n",
    "b2 = torch.zeros(vocab_size)\n",
    "\n",
    "bngain = torch.ones((1, n_hidden)) # batchnorm gain\n",
    "bnbias = torch.zeros((1, n_hidden)) # batchnorm bias\n",
    "bnmean_running = torch.zeros((1, n_hidden)) # batchnorm running mean, gaussian so mean is roughly 0\n",
    "bnstd_running = torch.ones((1, n_hidden)) # batchnorm running std, std is roughly 1\n",
    "parameters = [token_embedding_table, W1, W2, b2, bngain, bnbias]"
   ]
  },
  {
   "cell_type": "code",
   "execution_count": 138,
   "metadata": {},
   "outputs": [],
   "source": [
    "for param in parameters:\n",
    "    param.requires_grad_()"
   ]
  },
  {
   "cell_type": "code",
   "execution_count": 139,
   "metadata": {},
   "outputs": [],
   "source": [
    "stepi = []\n",
    "lossi = []"
   ]
  },
  {
   "cell_type": "code",
   "execution_count": 140,
   "metadata": {},
   "outputs": [
    {
     "name": "stdout",
     "output_type": "stream",
     "text": [
      "Step       0 Loss: 3.3046\n",
      "Step   10000 Loss: 2.2505\n",
      "Step   20000 Loss: 2.1246\n",
      "Step   30000 Loss: 2.1339\n",
      "Step   40000 Loss: 2.3657\n",
      "Step   50000 Loss: 2.3567\n",
      "Step   60000 Loss: 2.0230\n",
      "Step   70000 Loss: 2.1683\n",
      "Step   80000 Loss: 2.0397\n",
      "Step   90000 Loss: 2.5886\n",
      "Step  100000 Loss: 1.7211\n",
      "Step  110000 Loss: 2.1276\n",
      "Step  120000 Loss: 2.3235\n",
      "Step  130000 Loss: 2.3501\n",
      "Step  140000 Loss: 2.1897\n",
      "Step  150000 Loss: 2.2457\n",
      "Step  160000 Loss: 1.8409\n",
      "Step  170000 Loss: 2.5195\n",
      "Step  180000 Loss: 2.1223\n",
      "Step  190000 Loss: 1.9412\n"
     ]
    }
   ],
   "source": [
    "for i in range(max_epochs):\n",
    "    # construct minibatch\n",
    "    ix = torch.randint(0, X_train.shape[0], (batch_size,))\n",
    "    Xb, Yb = X_train[ix], Y_train[ix]\n",
    "\n",
    "    # forward pass\n",
    "    tok_emb = token_embedding_table[Xb] # T x block_size x C\n",
    "    emb_cat = tok_emb.view(-1, block_size * n_embd) # T x (block_size * C)\n",
    "    h_preact =  emb_cat @ W1\n",
    "\n",
    "    # batch normalization\n",
    "    mu, sigma = h_preact.mean(dim=0, keepdim=True), h_preact.std(dim=0, keepdim=True)\n",
    "    h_preact = (h_preact - mu) / sigma\n",
    "    h_preact = h_preact * bngain + bnbias # scale and shift\n",
    "    \n",
    "    with torch.no_grad():\n",
    "        bnmean_running = 0.999 * bnmean_running + 0.001 * mu\n",
    "        bnstd_running = 0.999 * bnstd_running + 0.001 * sigma\n",
    "\n",
    "    # activation\n",
    "    h = torch.tanh(h_preact)\n",
    "    logits = h @ W2 + b2\n",
    "    loss = F.cross_entropy(logits, Yb) \n",
    "\n",
    "    \n",
    "\n",
    "    if i % 10000 == 0:\n",
    "        print(f'Step {i:7d} Loss: {loss:.4f}')\n",
    "\n",
    "    # backward pass\n",
    "    for p in parameters: # zero out the gradients\n",
    "        p.grad = None\n",
    "    loss.backward()\n",
    "\n",
    "    # update parameters\n",
    "    lr = learning_rate if i < max_epochs / 2 else learning_rate / 10\n",
    "    for p in parameters:\n",
    "        p.data += -lr * p.grad\n",
    "    \n",
    "    stepi.append(i)\n",
    "    lossi.append(loss.log10().item())\n"
   ]
  },
  {
   "cell_type": "code",
   "execution_count": 141,
   "metadata": {},
   "outputs": [
    {
     "data": {
      "text/plain": [
       "<matplotlib.image.AxesImage at 0x296a8ae50>"
      ]
     },
     "execution_count": 141,
     "metadata": {},
     "output_type": "execute_result"
    },
    {
     "data": {
      "image/png": "[encoded data removed]",
      "text/plain": [
       "<Figure size 1000x600 with 1 Axes>"
      ]
     },
     "metadata": {},
     "output_type": "display_data"
    }
   ],
   "source": [
    "plt.figure(figsize=(10, 6))\n",
    "plt.imshow(h.abs() > 0.99 , cmap='gray', interpolation='nearest')"
   ]
  },
  {
   "cell_type": "code",
   "execution_count": 142,
   "metadata": {},
   "outputs": [
    {
     "data": {
      "text/plain": [
       "[<matplotlib.lines.Line2D at 0x297b27410>]"
      ]
     },
     "execution_count": 142,
     "metadata": {},
     "output_type": "execute_result"
    },
    {
     "data": {
      "image/png": "[encoded data removed]",
      "text/plain": [
       "<Figure size 640x480 with 1 Axes>"
      ]
     },
     "metadata": {},
     "output_type": "display_data"
    }
   ],
   "source": [
    "plt.plot(stepi, lossi)"
   ]
  },
  {
   "cell_type": "code",
   "execution_count": 143,
   "metadata": {},
   "outputs": [
    {
     "name": "stdout",
     "output_type": "stream",
     "text": [
      "('train', 2.1640827655792236)\n",
      "('valid', 2.17752742767334)\n"
     ]
    }
   ],
   "source": [
    "@torch.no_grad()\n",
    "def split_loss (split: str) -> float:\n",
    "    x, y = {\n",
    "        'train': (X_train, Y_train),\n",
    "        'valid': (X_valid, Y_valid),\n",
    "        'test': (X_test, Y_test)\n",
    "    }[split]\n",
    "\n",
    "    # evaluate loss on validation set\n",
    "    tok_emb = token_embedding_table[x] # T x block_size x C\n",
    "    h_preact =  tok_emb.view(-1, block_size * n_embd) @ W1\n",
    "\n",
    "    # batch normalization\n",
    "    h_preact = (h_preact - bnmean_running) / bnstd_running\n",
    "    h_preact = h_preact * bngain + bnbias # scale and shift\n",
    "    \n",
    "    h = torch.tanh(h_preact)\n",
    "    logits = h @ W2 + b2\n",
    "    loss = F.cross_entropy(logits, y) \n",
    "    return split, loss.item()\n",
    "\n",
    "print (split_loss('train'))\n",
    "print (split_loss('valid'))"
   ]
  },
  {
   "cell_type": "code",
   "execution_count": 144,
   "metadata": {},
   "outputs": [
    {
     "name": "stdout",
     "output_type": "stream",
     "text": [
      "('test', 2.1776342391967773)\n"
     ]
    }
   ],
   "source": [
    "print (split_loss('test'))"
   ]
  },
  {
   "cell_type": "code",
   "execution_count": 146,
   "metadata": {},
   "outputs": [
    {
     "name": "stdout",
     "output_type": "stream",
     "text": [
      "anueden.\n",
      "tis.\n",
      "marian.\n",
      "dan.\n",
      "shan.\n",
      "silayley.\n",
      "kemarie.\n",
      "man.\n",
      "epiachaleilanzi.\n",
      "kence.\n",
      "jordon.\n",
      "kalla.\n",
      "makhiyah.\n",
      "acvisia.\n",
      "aceelani.\n",
      "naretdeel.\n",
      "mar.\n",
      "tal.\n",
      "jente.\n",
      "solan.\n"
     ]
    }
   ],
   "source": [
    "# generate some names\n",
    "g = torch.Generator().manual_seed(42)\n",
    "for i in range(20):\n",
    "    out = []\n",
    "    context = [0] * block_size\n",
    "    while True:\n",
    "        tok_emb = token_embedding_table[torch.tensor([context])]\n",
    "        h_preact = tok_emb.view(1, -1) @ W1\n",
    "\n",
    "        # batch normalization\n",
    "        h_preact = (h_preact - bnmean_running) / bnstd_running\n",
    "        h_preact = h_preact * bngain + bnbias # scale and shift\n",
    "\n",
    "        h = torch.tanh(h_preact)\n",
    "        logits = h @ W2 + b2\n",
    "        probs = F.softmax(logits, dim=1)\n",
    "        ix = torch.multinomial(probs, num_samples=1, replacement=True, generator=g).item()\n",
    "        context = context[1:] + [ix]\n",
    "        out.append(ix) \n",
    "        if itos[ix] == '.':\n",
    "            break\n",
    "    print(''.join(itos[i] for i in out))"
   ]
  },
  {
   "cell_type": "code",
   "execution_count": null,
   "metadata": {},
   "outputs": [],
   "source": []
  }
 ],
 "metadata": {
  "kernelspec": {
   "display_name": "base",
   "language": "python",
   "name": "python3"
  },
  "language_info": {
   "codemirror_mode": {
    "name": "ipython",
    "version": 3
   },
   "file_extension": ".py",
   "mimetype": "text/x-python",
   "name": "python",
   "nbconvert_exporter": "python",
   "pygments_lexer": "ipython3",
   "version": "3.11.5"
  }
 },
 "nbformat": 4,
 "nbformat_minor": 2
}
