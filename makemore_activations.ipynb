{
 "cells": [
  {
   "cell_type": "code",
   "execution_count": 6,
   "metadata": {},
   "outputs": [],
   "source": [
    "import torch\n",
    "import torch.nn.functional as F\n",
    "import matplotlib.pyplot as plt\n",
    "from typing import List, Tuple\n",
    "%matplotlib inline"
   ]
  },
  {
   "cell_type": "code",
   "execution_count": 7,
   "metadata": {},
   "outputs": [],
   "source": [
    "words = open(\"names.txt\").read().splitlines()"
   ]
  },
  {
   "cell_type": "code",
   "execution_count": 8,
   "metadata": {},
   "outputs": [
    {
     "data": {
      "text/plain": [
       "32033"
      ]
     },
     "execution_count": 8,
     "metadata": {},
     "output_type": "execute_result"
    }
   ],
   "source": [
    "len(words)"
   ]
  },
  {
   "cell_type": "code",
   "execution_count": 9,
   "metadata": {},
   "outputs": [],
   "source": [
    "chars = sorted(list(set(''.join(words))))\n",
    "# encoding and decoding chars\n",
    "stoi = {ch: i + 1 for i, ch in enumerate(chars)}\n",
    "stoi['.'] = 0\n",
    "itos = {i: ch for ch, i in stoi.items()}\n",
    "vocab_size = len(stoi)"
   ]
  },
  {
   "cell_type": "code",
   "execution_count": 10,
   "metadata": {},
   "outputs": [],
   "source": [
    "# hyperparameters\n",
    "learning_rate = 0.01\n",
    "max_epochs = 200000\n",
    "batch_size = 32\n",
    "n_embd = 10 # aka C\n",
    "block_size = 3"
   ]
  },
  {
   "cell_type": "code",
   "execution_count": 11,
   "metadata": {},
   "outputs": [],
   "source": [
    "# build dataset\n",
    "def build_dataset (words: List[str]) -> Tuple[torch.Tensor, torch.Tensor]:\n",
    "    X, Y = [], []\n",
    "    for word in words:\n",
    "        context = [0] * block_size\n",
    "        for ch in word + '.':\n",
    "            ix = stoi[ch]\n",
    "            X.append(context)\n",
    "            Y.append(ix)\n",
    "            context = context[1:] + [ix]\n",
    "    return torch.tensor(X), torch.tensor(Y)\n",
    "\n",
    "import random\n",
    "random.seed(42)\n",
    "random.shuffle(words)\n",
    "\n",
    "# make training, validation and test splits\n",
    "n1, n2 = int(len(words) * 0.8), int(len(words) * 0.9)\n",
    "X_train, Y_train = build_dataset(words[:n1])\n",
    "X_valid, Y_valid = build_dataset(words[n1:n2])\n",
    "X_test, Y_test = build_dataset(words[n2:])"
   ]
  },
  {
   "cell_type": "code",
   "execution_count": 12,
   "metadata": {},
   "outputs": [],
   "source": [
    "# first layer\n",
    "n_hidden = 200\n",
    "g = torch.Generator().manual_seed(42)\n",
    "token_embedding_table = torch.randn(vocab_size, n_embd, generator=g)\n",
    "W1 = torch.randn(n_embd * block_size, n_hidden, generator=g)\n",
    "b1 = torch.randn(n_hidden, generator=g)\n",
    "\n",
    "# output layer\n",
    "W2 = torch.randn(n_hidden, vocab_size, generator=g)\n",
    "b2 = torch.randn(vocab_size, generator=g)\n",
    "parameters = [token_embedding_table, W1, b1, W2, b2]"
   ]
  },
  {
   "cell_type": "code",
   "execution_count": 13,
   "metadata": {},
   "outputs": [],
   "source": [
    "for param in parameters:\n",
    "    param.requires_grad_()"
   ]
  },
  {
   "cell_type": "code",
   "execution_count": 14,
   "metadata": {},
   "outputs": [],
   "source": [
    "stepi = []\n",
    "lossi = []"
   ]
  },
  {
   "cell_type": "code",
   "execution_count": 15,
   "metadata": {},
   "outputs": [
    {
     "name": "stdout",
     "output_type": "stream",
     "text": [
      "Loss: 31.8885\n",
      "Loss: 3.3514\n",
      "Loss: 2.2771\n",
      "Loss: 2.3091\n",
      "Loss: 2.1673\n",
      "Loss: 2.5074\n",
      "Loss: 2.2046\n",
      "Loss: 2.0713\n",
      "Loss: 2.7478\n",
      "Loss: 1.9985\n",
      "Loss: 2.4598\n",
      "Loss: 2.5528\n",
      "Loss: 2.0847\n",
      "Loss: 2.4481\n",
      "Loss: 1.8782\n",
      "Loss: 1.9402\n",
      "Loss: 2.5021\n",
      "Loss: 2.5068\n",
      "Loss: 2.4469\n",
      "Loss: 2.0308\n"
     ]
    }
   ],
   "source": [
    "for i in range(max_epochs):\n",
    "    # construct minibatch\n",
    "    ix = torch.randint(0, X_train.shape[0], (batch_size,))\n",
    "    Xb, Yb = X_train[ix], Y_train[ix]\n",
    "\n",
    "    # forward pass\n",
    "    tok_emb = token_embedding_table[Xb] # T x block_size x C\n",
    "    emb_cat = tok_emb.view(-1, block_size * n_embd) # T x (block_size * C)\n",
    "    h_preact =  emb_cat @ W1 + b1\n",
    "    h = torch.tanh(h_preact)\n",
    "    logits = h @ W2 + b2\n",
    "    loss = F.cross_entropy(logits, Yb) \n",
    "    \n",
    "    if i % 10000 == 0:\n",
    "        print(f'Step {i:7d} Loss: {loss:.4f}')\n",
    "\n",
    "    # backward pass\n",
    "    for p in parameters: # zero out the gradients\n",
    "        p.grad = None\n",
    "    loss.backward()\n",
    "\n",
    "    # update parameters\n",
    "    lr = learning_rate if i < max_epochs / 2 else learning_rate / 10\n",
    "    for p in parameters:\n",
    "        p.data += -lr * p.grad\n",
    "    \n",
    "    stepi.append(i)\n",
    "    lossi.append(loss.log10().item())\n"
   ]
  },
  {
   "cell_type": "code",
   "execution_count": 21,
   "metadata": {},
   "outputs": [
    {
     "data": {
      "text/plain": [
       "[<matplotlib.lines.Line2D at 0x1547eaa10>]"
      ]
     },
     "execution_count": 21,
     "metadata": {},
     "output_type": "execute_result"
    },
    {
     "data": {
      "image/png": "[encoded data removed]",
      "text/plain": [
       "<Figure size 640x480 with 1 Axes>"
      ]
     },
     "metadata": {},
     "output_type": "display_data"
    }
   ],
   "source": [
    "plt.plot(stepi, lossi)"
   ]
  },
  {
   "cell_type": "code",
   "execution_count": 23,
   "metadata": {},
   "outputs": [
    {
     "name": "stdout",
     "output_type": "stream",
     "text": [
      "('train', 2.2602012157440186)\n",
      "('valid', 2.267983913421631)\n"
     ]
    }
   ],
   "source": [
    "@torch.no_grad()\n",
    "def split_loss (split: str) -> float:\n",
    "    x, y = {\n",
    "        'train': (X_train, Y_train),\n",
    "        'valid': (X_valid, Y_valid),\n",
    "        'test': (X_test, Y_test)\n",
    "    }[split]\n",
    "\n",
    "    # evaluate loss on validation set\n",
    "    tok_emb = token_embedding_table[x] # T x block_size x C\n",
    "    h = torch.tanh(tok_emb.view(-1, n_embd * block_size) @ W1 + b1)\n",
    "    logits = h @ W2 + b2\n",
    "    loss = F.cross_entropy(logits, y) \n",
    "    return split, loss.item()\n",
    "\n",
    "print (split_loss('train'))\n",
    "print (split_loss('valid'))"
   ]
  },
  {
   "cell_type": "code",
   "execution_count": 24,
   "metadata": {},
   "outputs": [
    {
     "name": "stdout",
     "output_type": "stream",
     "text": [
      "('test', 2.261622667312622)\n"
     ]
    }
   ],
   "source": [
    "print (split_loss('test'))"
   ]
  },
  {
   "cell_type": "code",
   "execution_count": 20,
   "metadata": {},
   "outputs": [
    {
     "name": "stdout",
     "output_type": "stream",
     "text": [
      "anuheen.\n",
      "tis.\n",
      "mabian.\n",
      "dante.\n",
      "nalielayley.\n",
      "kemah.\n",
      "laman.\n",
      "eamariolen.\n",
      "diza.\n",
      "kence.\n",
      "jordon.\n",
      "kalla.\n",
      "mikh.\n",
      "yana.\n",
      "cveria.\n",
      "aceella.\n",
      "tian.\n",
      "tuyja.\n",
      "mar.\n",
      "tal.\n"
     ]
    }
   ],
   "source": [
    "# generate some names\n",
    "g = torch.Generator().manual_seed(42)\n",
    "for i in range(20):\n",
    "    out = []\n",
    "    context = [0] * block_size\n",
    "    while True:\n",
    "        tok_emb = token_embedding_table[torch.tensor([context])]\n",
    "        h = torch.tanh(tok_emb.view(1, -1) @ W1 + b1)\n",
    "        logits = h @ W2 + b2\n",
    "        probs = F.softmax(logits, dim=1)\n",
    "        ix = torch.multinomial(probs, num_samples=1, replacement=True, generator=g).item()\n",
    "        context = context[1:] + [ix]\n",
    "        out.append(ix) \n",
    "        if itos[ix] == '.':\n",
    "            break\n",
    "    print(''.join(itos[i] for i in out))"
   ]
  },
  {
   "cell_type": "code",
   "execution_count": null,
   "metadata": {},
   "outputs": [],
   "source": []
  }
 ],
 "metadata": {
  "kernelspec": {
   "display_name": "base",
   "language": "python",
   "name": "python3"
  },
  "language_info": {
   "codemirror_mode": {
    "name": "ipython",
    "version": 3
   },
   "file_extension": ".py",
   "mimetype": "text/x-python",
   "name": "python",
   "nbconvert_exporter": "python",
   "pygments_lexer": "ipython3",
   "version": "3.11.5"
  }
 },
 "nbformat": 4,
 "nbformat_minor": 2
}
